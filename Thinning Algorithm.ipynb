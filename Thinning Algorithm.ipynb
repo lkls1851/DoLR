{
 "cells": [
  {
   "cell_type": "code",
   "execution_count": 12,
   "id": "3992c54f-d71b-4ab1-812e-0467dfea0db8",
   "metadata": {},
   "outputs": [],
   "source": [
    "import matplotlib.pyplot as plt\n",
    "import numpy as np\n",
    "import cv2\n",
    "import os"
   ]
  },
  {
   "cell_type": "code",
   "execution_count": 13,
   "id": "869dee4a-a384-4fe5-87a6-205e4eefa704",
   "metadata": {},
   "outputs": [],
   "source": [
    "img_dir='new output/'\n",
    "dir_list=os.listdir(img_dir)\n",
    "output_dir='final output/'"
   ]
  },
  {
   "cell_type": "code",
   "execution_count": 14,
   "id": "cc031470-a557-41af-8ae8-1594ca1a3182",
   "metadata": {},
   "outputs": [
    {
     "data": {
      "text/plain": [
       "['figure_0_0.jpg',\n",
       " 'figure_0_1.jpg',\n",
       " 'figure_1_0.jpg',\n",
       " 'figure_1_1.jpg',\n",
       " 'figure_2_0.jpg',\n",
       " 'figure_2_1.jpg',\n",
       " 'figure_3_0.jpg',\n",
       " 'figure_3_1.jpg',\n",
       " 'figure_4_0.jpg',\n",
       " 'figure_4_1.jpg',\n",
       " 'figure_5_0.jpg',\n",
       " 'figure_5_1.jpg',\n",
       " 'figure_6_0.jpg',\n",
       " 'figure_6_1.jpg',\n",
       " 'figure_7_0.jpg',\n",
       " 'figure_7_1.jpg',\n",
       " 'figure_8_0.jpg',\n",
       " 'figure_8_1.jpg',\n",
       " 'figure_9_0.jpg',\n",
       " 'figure_9_1.jpg',\n",
       " '__pycache__']"
      ]
     },
     "execution_count": 14,
     "metadata": {},
     "output_type": "execute_result"
    }
   ],
   "source": [
    "dir_list"
   ]
  },
  {
   "cell_type": "code",
   "execution_count": 15,
   "id": "f1db5d83-6ce4-4e11-8c58-082f4059050c",
   "metadata": {},
   "outputs": [],
   "source": [
    "for f in dir_list:\n",
    "    img_path=os.path.join(img_dir, f)\n",
    "    if f.endswith('.jpg'):\n",
    "        img=cv2.imread(img_path)\n",
    "        thinned=cv2.ximgproc.thinning(cv2.cvtColor(img, cv2.COLOR_RGB2GRAY))\n",
    "        output_path=os.path.join(output_dir, f)\n",
    "        cv2.imwrite(output_path, thinned)"
   ]
  },
  {
   "cell_type": "code",
   "execution_count": 10,
   "id": "c98f232f",
   "metadata": {},
   "outputs": [],
   "source": [
    "img_dir='new output/'\n",
    "dir_list=os.listdir(img_dir)\n",
    "output_dir='skeleton output/'"
   ]
  },
  {
   "cell_type": "code",
   "execution_count": 11,
   "id": "fa6b37d4",
   "metadata": {},
   "outputs": [],
   "source": [
    "for f in dir_list:\n",
    "    img_path=os.path.join(img_dir, f)\n",
    "    if f.endswith('.jpg'):\n",
    "        img=cv2.imread(img_path)\n",
    "        img=cv2.cvtColor(img, cv2.COLOR_BGR2GRAY)\n",
    "        size=np.size(img)\n",
    "        skel=np.zeros(img.shape,np.uint8)\n",
    "        ret,img = cv2.threshold(img,127,255,0)\n",
    "        element = cv2.getStructuringElement(cv2.MORPH_CROSS,(3,3))\n",
    "        done = False\n",
    " \n",
    "        while( not done):\n",
    "            eroded = cv2.erode(img,element)\n",
    "            temp = cv2.dilate(eroded,element)\n",
    "            temp = cv2.subtract(img,temp)\n",
    "            skel = cv2.bitwise_or(skel,temp)\n",
    "            img = eroded.copy()\n",
    "            zeros = size - cv2.countNonZero(img)\n",
    "            if zeros==size:\n",
    "                done = True\n",
    "            output_path=os.path.join(output_dir, f)\n",
    "        cv2.imwrite(output_path, skel)\n",
    "            "
   ]
  },
  {
   "cell_type": "code",
   "execution_count": null,
   "id": "c5159cc7",
   "metadata": {},
   "outputs": [],
   "source": []
  }
 ],
 "metadata": {
  "kernelspec": {
   "display_name": "Python 3 (ipykernel)",
   "language": "python",
   "name": "python3"
  },
  "language_info": {
   "codemirror_mode": {
    "name": "ipython",
    "version": 3
   },
   "file_extension": ".py",
   "mimetype": "text/x-python",
   "name": "python",
   "nbconvert_exporter": "python",
   "pygments_lexer": "ipython3",
   "version": "3.10.12"
  }
 },
 "nbformat": 4,
 "nbformat_minor": 5
}
